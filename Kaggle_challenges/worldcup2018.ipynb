{
 "cells": [
  {
   "cell_type": "markdown",
   "metadata": {
    "_uuid": "3cb3f3c5c27def83d011f2de99c8cdb79a1b7b45"
   },
   "source": [
    "# Predicting the winner of the 2018 FIFA World Cup\n**Aim**: \nto predict the outcome of the FIFA World Cup 2018\nUPDATE: see the simulation of the single elimination phase here: https://www.kaggle.com/agostontorok/winner-of-the-fifa-world-cup-10-000-simulations \n\n **Method**:\n- Use data from Kaggle to model the outcome of certain pairings between teams, given their rank, points, and the weighted point difference with the opponent.\n- Use this model to predict the outcome of the group rounds and then the single-elimination phase\n\n**Summary**\nAccording to the analysis below, the team that will win the World Cup is the [underdog according to the bookies](https://www.oddschecker.com/football/world-cup/winner): Germany . But this is not the only interesting thing you can observe. If [not interested in the data munging part](https://ih1.redbubble.net/image.441592463.7099/sticker,375x360-bg,ffffff.u1.png) head to the last section (Visualization) and see the single-elimination phase. To make the story more interesting for the sport lovers, I report fair odds (i.e. fair market, without bookmaker margin) instead of the raw probability output. \n\nCouple things to note, \n- it seems Egypt qualifies to the best 16 and their match with Portugal is the safest bet in the phase. \n- In this simulation, Brasil cannot make it through Belgium.. I'm sure here many would consider otherwise\n- It seems that neither CRonaldo (POR) nor LMessi (ARG) is going to play in the final but they are going to play against each other in the quarterfinals...\n\nAll in all, I'm looking forward to the tournament! Place your bets and get ready you too! \n\nCheers!"
   ]
  },
  {
   "cell_type": "markdown",
   "metadata": {
    "_uuid": "55d7132bf01a6553a087fd6ce7aad6be3553e4f5"
   },
   "source": [
    "# Data I/O\n\nI use three datasets\n- FIFA rankings from 1993 to 2018 (courtesy of [Tadhg Fitzgerald](https://www.kaggle.com/tadhgfitzgerald) \n> This one I used to get the FIFA ranking and points for the teams, which is a monthly changing rank previously shown as a [decent predictor](http://www.sportingintelligence.com/2014/06/20/upsets-giant-killings-adios-bye-bye-fifa-rankings-still-ahead-in-predicting-results-200601/) of team performance\n- International Soccer matches from 1872 to 2018 (courtesy of [Mart Jürisoo](https://www.kaggle.com/martj42))\n> This I will use to find out how much the difference in point, ranks and the current rank of the team affects the outocme of a match\n- FIFA World Cup 2018 data set (courtesy of [Nuggs](https://www.kaggle.com/ahmedelnaggar))\n> This I will use to get the upcoming matches \n\nComment: Right when reading the datafiles I take care of the renaming of the Countries because there is some mismatch in the sources"
   ]
  },
  {
   "cell_type": "code",
   "execution_count": 4,
   "metadata": {
    "_uuid": "8f2839f25d086af736a60e9eeb907d3b93b6e0e5",
    "_cell_guid": "b1076dfc-b9ad-4769-8c92-a6c4dae69d19",
    "trusted": true
   },
   "outputs": [
    {
     "data": {
      "text/html": [
       "<div>\n<style scoped>\n    .dataframe tbody tr th:only-of-type {\n        vertical-align: middle;\n    }\n\n    .dataframe tbody tr th {\n        vertical-align: top;\n    }\n\n    .dataframe thead th {\n        text-align: right;\n    }\n</style>\n<table border=\"1\" class=\"dataframe\">\n  <thead>\n    <tr style=\"text-align: right;\">\n      <th></th>\n      <th>date</th>\n      <th>home_team</th>\n      <th>away_team</th>\n      <th>home_score</th>\n      <th>away_score</th>\n      <th>tournament</th>\n      <th>city</th>\n      <th>country</th>\n      <th>neutral</th>\n    </tr>\n  </thead>\n  <tbody>\n    <tr>\n      <th>0</th>\n      <td>1872-11-30</td>\n      <td>Scotland</td>\n      <td>England</td>\n      <td>0</td>\n      <td>0</td>\n      <td>Friendly</td>\n      <td>Glasgow</td>\n      <td>Scotland</td>\n      <td>False</td>\n    </tr>\n    <tr>\n      <th>1</th>\n      <td>1873-03-08</td>\n      <td>England</td>\n      <td>Scotland</td>\n      <td>4</td>\n      <td>2</td>\n      <td>Friendly</td>\n      <td>London</td>\n      <td>England</td>\n      <td>False</td>\n    </tr>\n    <tr>\n      <th>2</th>\n      <td>1874-03-07</td>\n      <td>Scotland</td>\n      <td>England</td>\n      <td>2</td>\n      <td>1</td>\n      <td>Friendly</td>\n      <td>Glasgow</td>\n      <td>Scotland</td>\n      <td>False</td>\n    </tr>\n    <tr>\n      <th>3</th>\n      <td>1875-03-06</td>\n      <td>England</td>\n      <td>Scotland</td>\n      <td>2</td>\n      <td>2</td>\n      <td>Friendly</td>\n      <td>London</td>\n      <td>England</td>\n      <td>False</td>\n    </tr>\n    <tr>\n      <th>4</th>\n      <td>1876-03-04</td>\n      <td>Scotland</td>\n      <td>England</td>\n      <td>3</td>\n      <td>0</td>\n      <td>Friendly</td>\n      <td>Glasgow</td>\n      <td>Scotland</td>\n      <td>False</td>\n    </tr>\n    <tr>\n      <th>5</th>\n      <td>1876-03-25</td>\n      <td>Scotland</td>\n      <td>Wales</td>\n      <td>4</td>\n      <td>0</td>\n      <td>Friendly</td>\n      <td>Glasgow</td>\n      <td>Scotland</td>\n      <td>False</td>\n    </tr>\n    <tr>\n      <th>6</th>\n      <td>1877-03-03</td>\n      <td>England</td>\n      <td>Scotland</td>\n      <td>1</td>\n      <td>3</td>\n      <td>Friendly</td>\n      <td>London</td>\n      <td>England</td>\n      <td>False</td>\n    </tr>\n    <tr>\n      <th>7</th>\n      <td>1877-03-05</td>\n      <td>Wales</td>\n      <td>Scotland</td>\n      <td>0</td>\n      <td>2</td>\n      <td>Friendly</td>\n      <td>Wrexham</td>\n      <td>Wales</td>\n      <td>False</td>\n    </tr>\n    <tr>\n      <th>8</th>\n      <td>1878-03-02</td>\n      <td>Scotland</td>\n      <td>England</td>\n      <td>7</td>\n      <td>2</td>\n      <td>Friendly</td>\n      <td>Glasgow</td>\n      <td>Scotland</td>\n      <td>False</td>\n    </tr>\n    <tr>\n      <th>9</th>\n      <td>1878-03-23</td>\n      <td>Scotland</td>\n      <td>Wales</td>\n      <td>9</td>\n      <td>0</td>\n      <td>Friendly</td>\n      <td>Glasgow</td>\n      <td>Scotland</td>\n      <td>False</td>\n    </tr>\n    <tr>\n      <th>10</th>\n      <td>1879-01-18</td>\n      <td>England</td>\n      <td>Wales</td>\n      <td>2</td>\n      <td>1</td>\n      <td>Friendly</td>\n      <td>London</td>\n      <td>England</td>\n      <td>False</td>\n    </tr>\n    <tr>\n      <th>11</th>\n      <td>1879-04-05</td>\n      <td>England</td>\n      <td>Scotland</td>\n      <td>5</td>\n      <td>4</td>\n      <td>Friendly</td>\n      <td>London</td>\n      <td>England</td>\n      <td>False</td>\n    </tr>\n    <tr>\n      <th>12</th>\n      <td>1879-04-07</td>\n      <td>Wales</td>\n      <td>Scotland</td>\n      <td>0</td>\n      <td>3</td>\n      <td>Friendly</td>\n      <td>Wrexham</td>\n      <td>Wales</td>\n      <td>False</td>\n    </tr>\n    <tr>\n      <th>13</th>\n      <td>1880-03-13</td>\n      <td>Scotland</td>\n      <td>England</td>\n      <td>5</td>\n      <td>4</td>\n      <td>Friendly</td>\n      <td>Glasgow</td>\n      <td>Scotland</td>\n      <td>False</td>\n    </tr>\n    <tr>\n      <th>14</th>\n      <td>1880-03-15</td>\n      <td>Wales</td>\n      <td>England</td>\n      <td>2</td>\n      <td>3</td>\n      <td>Friendly</td>\n      <td>Wrexham</td>\n      <td>Wales</td>\n      <td>False</td>\n    </tr>\n    <tr>\n      <th>15</th>\n      <td>1880-03-27</td>\n      <td>Scotland</td>\n      <td>Wales</td>\n      <td>5</td>\n      <td>1</td>\n      <td>Friendly</td>\n      <td>Glasgow</td>\n      <td>Scotland</td>\n      <td>False</td>\n    </tr>\n    <tr>\n      <th>16</th>\n      <td>1881-02-26</td>\n      <td>England</td>\n      <td>Wales</td>\n      <td>0</td>\n      <td>1</td>\n      <td>Friendly</td>\n      <td>Blackburn</td>\n      <td>England</td>\n      <td>False</td>\n    </tr>\n    <tr>\n      <th>17</th>\n      <td>1881-03-12</td>\n      <td>England</td>\n      <td>Scotland</td>\n      <td>1</td>\n      <td>6</td>\n      <td>Friendly</td>\n      <td>London</td>\n      <td>England</td>\n      <td>False</td>\n    </tr>\n    <tr>\n      <th>18</th>\n      <td>1881-03-14</td>\n      <td>Wales</td>\n      <td>Scotland</td>\n      <td>1</td>\n      <td>5</td>\n      <td>Friendly</td>\n      <td>Wrexham</td>\n      <td>Wales</td>\n      <td>False</td>\n    </tr>\n    <tr>\n      <th>19</th>\n      <td>1882-02-18</td>\n      <td>Northern Ireland</td>\n      <td>England</td>\n      <td>0</td>\n      <td>13</td>\n      <td>Friendly</td>\n      <td>Belfast</td>\n      <td>Ireland</td>\n      <td>False</td>\n    </tr>\n    <tr>\n      <th>20</th>\n      <td>1882-02-25</td>\n      <td>Wales</td>\n      <td>Northern Ireland</td>\n      <td>7</td>\n      <td>1</td>\n      <td>Friendly</td>\n      <td>Wrexham</td>\n      <td>Wales</td>\n      <td>False</td>\n    </tr>\n    <tr>\n      <th>21</th>\n      <td>1882-03-11</td>\n      <td>Scotland</td>\n      <td>England</td>\n      <td>5</td>\n      <td>1</td>\n      <td>Friendly</td>\n      <td>Glasgow</td>\n      <td>Scotland</td>\n      <td>False</td>\n    </tr>\n    <tr>\n      <th>22</th>\n      <td>1882-03-13</td>\n      <td>Wales</td>\n      <td>England</td>\n      <td>5</td>\n      <td>3</td>\n      <td>Friendly</td>\n      <td>Wrexham</td>\n      <td>Wales</td>\n      <td>False</td>\n    </tr>\n    <tr>\n      <th>23</th>\n      <td>1882-03-25</td>\n      <td>Scotland</td>\n      <td>Wales</td>\n      <td>5</td>\n      <td>0</td>\n      <td>Friendly</td>\n      <td>Glasgow</td>\n      <td>Scotland</td>\n      <td>False</td>\n    </tr>\n    <tr>\n      <th>24</th>\n      <td>1883-02-03</td>\n      <td>England</td>\n      <td>Wales</td>\n      <td>5</td>\n      <td>0</td>\n      <td>Friendly</td>\n      <td>London</td>\n      <td>England</td>\n      <td>False</td>\n    </tr>\n    <tr>\n      <th>25</th>\n      <td>1883-02-24</td>\n      <td>England</td>\n      <td>Northern Ireland</td>\n      <td>7</td>\n      <td>0</td>\n      <td>Friendly</td>\n      <td>Liverpool</td>\n      <td>England</td>\n      <td>False</td>\n    </tr>\n    <tr>\n      <th>26</th>\n      <td>1883-03-10</td>\n      <td>England</td>\n      <td>Scotland</td>\n      <td>2</td>\n      <td>3</td>\n      <td>Friendly</td>\n      <td>Sheffield</td>\n      <td>England</td>\n      <td>False</td>\n    </tr>\n    <tr>\n      <th>27</th>\n      <td>1883-03-12</td>\n      <td>Wales</td>\n      <td>Scotland</td>\n      <td>0</td>\n      <td>3</td>\n      <td>Friendly</td>\n      <td>Wrexham</td>\n      <td>Wales</td>\n      <td>False</td>\n    </tr>\n    <tr>\n      <th>28</th>\n      <td>1883-03-17</td>\n      <td>Northern Ireland</td>\n      <td>Wales</td>\n      <td>1</td>\n      <td>1</td>\n      <td>Friendly</td>\n      <td>Belfast</td>\n      <td>Ireland</td>\n      <td>False</td>\n    </tr>\n    <tr>\n      <th>29</th>\n      <td>1884-01-26</td>\n      <td>Northern Ireland</td>\n      <td>Scotland</td>\n      <td>0</td>\n      <td>5</td>\n      <td>British Championship</td>\n      <td>Belfast</td>\n      <td>Ireland</td>\n      <td>False</td>\n    </tr>\n    <tr>\n      <th>...</th>\n      <td>...</td>\n      <td>...</td>\n      <td>...</td>\n      <td>...</td>\n      <td>...</td>\n      <td>...</td>\n      <td>...</td>\n      <td>...</td>\n      <td>...</td>\n    </tr>\n    <tr>\n      <th>39639</th>\n      <td>2018-06-25</td>\n      <td>Russia</td>\n      <td>Uruguay</td>\n      <td>0</td>\n      <td>3</td>\n      <td>FIFA World Cup</td>\n      <td>Samara</td>\n      <td>Russia</td>\n      <td>False</td>\n    </tr>\n    <tr>\n      <th>39640</th>\n      <td>2018-06-25</td>\n      <td>Saudi Arabia</td>\n      <td>Egypt</td>\n      <td>2</td>\n      <td>1</td>\n      <td>FIFA World Cup</td>\n      <td>Volgograd</td>\n      <td>Russia</td>\n      <td>True</td>\n    </tr>\n    <tr>\n      <th>39641</th>\n      <td>2018-06-25</td>\n      <td>Spain</td>\n      <td>Morocco</td>\n      <td>2</td>\n      <td>2</td>\n      <td>FIFA World Cup</td>\n      <td>Kaliningrad</td>\n      <td>Russia</td>\n      <td>True</td>\n    </tr>\n    <tr>\n      <th>39642</th>\n      <td>2018-06-25</td>\n      <td>Iran</td>\n      <td>Portugal</td>\n      <td>1</td>\n      <td>1</td>\n      <td>FIFA World Cup</td>\n      <td>Saransk</td>\n      <td>Russia</td>\n      <td>True</td>\n    </tr>\n    <tr>\n      <th>39643</th>\n      <td>2018-06-26</td>\n      <td>Australia</td>\n      <td>Peru</td>\n      <td>0</td>\n      <td>2</td>\n      <td>FIFA World Cup</td>\n      <td>Sochi</td>\n      <td>Russia</td>\n      <td>True</td>\n    </tr>\n    <tr>\n      <th>39644</th>\n      <td>2018-06-26</td>\n      <td>Denmark</td>\n      <td>France</td>\n      <td>0</td>\n      <td>0</td>\n      <td>FIFA World Cup</td>\n      <td>Moscow</td>\n      <td>Russia</td>\n      <td>True</td>\n    </tr>\n    <tr>\n      <th>39645</th>\n      <td>2018-06-26</td>\n      <td>Nigeria</td>\n      <td>Argentina</td>\n      <td>1</td>\n      <td>2</td>\n      <td>FIFA World Cup</td>\n      <td>St. Petersburg</td>\n      <td>Russia</td>\n      <td>True</td>\n    </tr>\n    <tr>\n      <th>39646</th>\n      <td>2018-06-26</td>\n      <td>Iceland</td>\n      <td>Croatia</td>\n      <td>1</td>\n      <td>2</td>\n      <td>FIFA World Cup</td>\n      <td>Rostov-on-Don</td>\n      <td>Russia</td>\n      <td>True</td>\n    </tr>\n    <tr>\n      <th>39647</th>\n      <td>2018-06-27</td>\n      <td>Korea Republic</td>\n      <td>Germany</td>\n      <td>2</td>\n      <td>0</td>\n      <td>FIFA World Cup</td>\n      <td>Kazan</td>\n      <td>Russia</td>\n      <td>True</td>\n    </tr>\n    <tr>\n      <th>39648</th>\n      <td>2018-06-27</td>\n      <td>Mexico</td>\n      <td>Sweden</td>\n      <td>0</td>\n      <td>3</td>\n      <td>FIFA World Cup</td>\n      <td>Ekaterinburg</td>\n      <td>Russia</td>\n      <td>True</td>\n    </tr>\n    <tr>\n      <th>39649</th>\n      <td>2018-06-27</td>\n      <td>Serbia</td>\n      <td>Brazil</td>\n      <td>0</td>\n      <td>2</td>\n      <td>FIFA World Cup</td>\n      <td>Moscow</td>\n      <td>Russia</td>\n      <td>True</td>\n    </tr>\n    <tr>\n      <th>39650</th>\n      <td>2018-06-27</td>\n      <td>Switzerland</td>\n      <td>Costa Rica</td>\n      <td>2</td>\n      <td>2</td>\n      <td>FIFA World Cup</td>\n      <td>Nizhny Novgorod</td>\n      <td>Russia</td>\n      <td>True</td>\n    </tr>\n    <tr>\n      <th>39651</th>\n      <td>2018-06-28</td>\n      <td>Japan</td>\n      <td>Poland</td>\n      <td>0</td>\n      <td>1</td>\n      <td>FIFA World Cup</td>\n      <td>Volgograd</td>\n      <td>Russia</td>\n      <td>True</td>\n    </tr>\n    <tr>\n      <th>39652</th>\n      <td>2018-06-28</td>\n      <td>Senegal</td>\n      <td>Colombia</td>\n      <td>0</td>\n      <td>1</td>\n      <td>FIFA World Cup</td>\n      <td>Samara</td>\n      <td>Russia</td>\n      <td>True</td>\n    </tr>\n    <tr>\n      <th>39653</th>\n      <td>2018-06-28</td>\n      <td>Panama</td>\n      <td>Tunisia</td>\n      <td>1</td>\n      <td>2</td>\n      <td>FIFA World Cup</td>\n      <td>Saransk</td>\n      <td>Russia</td>\n      <td>True</td>\n    </tr>\n    <tr>\n      <th>39654</th>\n      <td>2018-06-28</td>\n      <td>England</td>\n      <td>Belgium</td>\n      <td>0</td>\n      <td>1</td>\n      <td>FIFA World Cup</td>\n      <td>Kaliningrad</td>\n      <td>Russia</td>\n      <td>True</td>\n    </tr>\n    <tr>\n      <th>39655</th>\n      <td>2018-06-30</td>\n      <td>France</td>\n      <td>Argentina</td>\n      <td>4</td>\n      <td>3</td>\n      <td>FIFA World Cup</td>\n      <td>Kazan</td>\n      <td>Russia</td>\n      <td>True</td>\n    </tr>\n    <tr>\n      <th>39656</th>\n      <td>2018-06-30</td>\n      <td>Uruguay</td>\n      <td>Portugal</td>\n      <td>2</td>\n      <td>1</td>\n      <td>FIFA World Cup</td>\n      <td>Sochi</td>\n      <td>Russia</td>\n      <td>True</td>\n    </tr>\n    <tr>\n      <th>39657</th>\n      <td>2018-07-01</td>\n      <td>Russia</td>\n      <td>Spain</td>\n      <td>1</td>\n      <td>1</td>\n      <td>FIFA World Cup</td>\n      <td>Moscow</td>\n      <td>Russia</td>\n      <td>False</td>\n    </tr>\n    <tr>\n      <th>39658</th>\n      <td>2018-07-01</td>\n      <td>Croatia</td>\n      <td>Denmark</td>\n      <td>1</td>\n      <td>1</td>\n      <td>FIFA World Cup</td>\n      <td>Nizhny Novgorod</td>\n      <td>Russia</td>\n      <td>True</td>\n    </tr>\n    <tr>\n      <th>39659</th>\n      <td>2018-07-02</td>\n      <td>Brazil</td>\n      <td>Mexico</td>\n      <td>2</td>\n      <td>0</td>\n      <td>FIFA World Cup</td>\n      <td>Samara</td>\n      <td>Russia</td>\n      <td>True</td>\n    </tr>\n    <tr>\n      <th>39660</th>\n      <td>2018-07-02</td>\n      <td>Belgium</td>\n      <td>Japan</td>\n      <td>3</td>\n      <td>2</td>\n      <td>FIFA World Cup</td>\n      <td>Rostov-on-Don</td>\n      <td>Russia</td>\n      <td>True</td>\n    </tr>\n    <tr>\n      <th>39661</th>\n      <td>2018-07-03</td>\n      <td>Sweden</td>\n      <td>Switzerland</td>\n      <td>1</td>\n      <td>0</td>\n      <td>FIFA World Cup</td>\n      <td>St. Petersburg</td>\n      <td>Russia</td>\n      <td>True</td>\n    </tr>\n    <tr>\n      <th>39662</th>\n      <td>2018-07-03</td>\n      <td>Colombia</td>\n      <td>England</td>\n      <td>1</td>\n      <td>1</td>\n      <td>FIFA World Cup</td>\n      <td>Moscow</td>\n      <td>Russia</td>\n      <td>True</td>\n    </tr>\n    <tr>\n      <th>39663</th>\n      <td>2018-07-05</td>\n      <td>Malaysia</td>\n      <td>Fiji</td>\n      <td>1</td>\n      <td>0</td>\n      <td>Friendly</td>\n      <td>Kuala Lumpur</td>\n      <td>Malaysia</td>\n      <td>False</td>\n    </tr>\n    <tr>\n      <th>39664</th>\n      <td>2018-07-06</td>\n      <td>Uruguay</td>\n      <td>France</td>\n      <td>0</td>\n      <td>2</td>\n      <td>FIFA World Cup</td>\n      <td>Nizhny Novgorod</td>\n      <td>Russia</td>\n      <td>True</td>\n    </tr>\n    <tr>\n      <th>39665</th>\n      <td>2018-07-06</td>\n      <td>Brazil</td>\n      <td>Belgium</td>\n      <td>1</td>\n      <td>2</td>\n      <td>FIFA World Cup</td>\n      <td>Kazan</td>\n      <td>Russia</td>\n      <td>True</td>\n    </tr>\n    <tr>\n      <th>39666</th>\n      <td>2018-07-07</td>\n      <td>Sweden</td>\n      <td>England</td>\n      <td>0</td>\n      <td>2</td>\n      <td>FIFA World Cup</td>\n      <td>Samara</td>\n      <td>Russia</td>\n      <td>True</td>\n    </tr>\n    <tr>\n      <th>39667</th>\n      <td>2018-07-07</td>\n      <td>Russia</td>\n      <td>Croatia</td>\n      <td>2</td>\n      <td>2</td>\n      <td>FIFA World Cup</td>\n      <td>Sochi</td>\n      <td>Russia</td>\n      <td>False</td>\n    </tr>\n    <tr>\n      <th>39668</th>\n      <td>2018-07-10</td>\n      <td>France</td>\n      <td>Belgium</td>\n      <td>1</td>\n      <td>0</td>\n      <td>FIFA World Cup</td>\n      <td>St. Petersburg</td>\n      <td>Russia</td>\n      <td>True</td>\n    </tr>\n  </tbody>\n</table>\n<p>39669 rows × 9 columns</p>\n</div>"
      ],
      "text/plain": [
       "            date         home_team   ...      country  neutral\n0     1872-11-30          Scotland   ...     Scotland    False\n1     1873-03-08           England   ...      England    False\n2     1874-03-07          Scotland   ...     Scotland    False\n3     1875-03-06           England   ...      England    False\n4     1876-03-04          Scotland   ...     Scotland    False\n5     1876-03-25          Scotland   ...     Scotland    False\n6     1877-03-03           England   ...      England    False\n7     1877-03-05             Wales   ...        Wales    False\n8     1878-03-02          Scotland   ...     Scotland    False\n9     1878-03-23          Scotland   ...     Scotland    False\n10    1879-01-18           England   ...      England    False\n11    1879-04-05           England   ...      England    False\n12    1879-04-07             Wales   ...        Wales    False\n13    1880-03-13          Scotland   ...     Scotland    False\n14    1880-03-15             Wales   ...        Wales    False\n15    1880-03-27          Scotland   ...     Scotland    False\n16    1881-02-26           England   ...      England    False\n17    1881-03-12           England   ...      England    False\n18    1881-03-14             Wales   ...        Wales    False\n19    1882-02-18  Northern Ireland   ...      Ireland    False\n20    1882-02-25             Wales   ...        Wales    False\n21    1882-03-11          Scotland   ...     Scotland    False\n22    1882-03-13             Wales   ...        Wales    False\n23    1882-03-25          Scotland   ...     Scotland    False\n24    1883-02-03           England   ...      England    False\n25    1883-02-24           England   ...      England    False\n26    1883-03-10           England   ...      England    False\n27    1883-03-12             Wales   ...        Wales    False\n28    1883-03-17  Northern Ireland   ...      Ireland    False\n29    1884-01-26  Northern Ireland   ...      Ireland    False\n...          ...               ...   ...          ...      ...\n39639 2018-06-25            Russia   ...       Russia    False\n39640 2018-06-25      Saudi Arabia   ...       Russia     True\n39641 2018-06-25             Spain   ...       Russia     True\n39642 2018-06-25              Iran   ...       Russia     True\n39643 2018-06-26         Australia   ...       Russia     True\n39644 2018-06-26           Denmark   ...       Russia     True\n39645 2018-06-26           Nigeria   ...       Russia     True\n39646 2018-06-26           Iceland   ...       Russia     True\n39647 2018-06-27    Korea Republic   ...       Russia     True\n39648 2018-06-27            Mexico   ...       Russia     True\n39649 2018-06-27            Serbia   ...       Russia     True\n39650 2018-06-27       Switzerland   ...       Russia     True\n39651 2018-06-28             Japan   ...       Russia     True\n39652 2018-06-28           Senegal   ...       Russia     True\n39653 2018-06-28            Panama   ...       Russia     True\n39654 2018-06-28           England   ...       Russia     True\n39655 2018-06-30            France   ...       Russia     True\n39656 2018-06-30           Uruguay   ...       Russia     True\n39657 2018-07-01            Russia   ...       Russia    False\n39658 2018-07-01           Croatia   ...       Russia     True\n39659 2018-07-02            Brazil   ...       Russia     True\n39660 2018-07-02           Belgium   ...       Russia     True\n39661 2018-07-03            Sweden   ...       Russia     True\n39662 2018-07-03          Colombia   ...       Russia     True\n39663 2018-07-05          Malaysia   ...     Malaysia    False\n39664 2018-07-06           Uruguay   ...       Russia     True\n39665 2018-07-06            Brazil   ...       Russia     True\n39666 2018-07-07            Sweden   ...       Russia     True\n39667 2018-07-07            Russia   ...       Russia    False\n39668 2018-07-10            France   ...       Russia     True\n\n[39669 rows x 9 columns]"
      ]
     },
     "execution_count": 4,
     "metadata": {},
     "output_type": "execute_result"
    }
   ],
   "source": [
    "import numpy as np # linear algebra\n",
    "import pandas as pd # data processing, CSV file I/O (e.g. pd.read_csv)\n",
    "from matplotlib import pyplot as plt\n",
    "\n",
    "matches = pd.read_csv('../input/international-football-results-from-1872-to-2017/results.csv')\n",
    "matches =  matches.replace({'Germany DR': 'Germany', 'China': 'China PR'})\n",
    "matches['date'] = pd.to_datetime(matches['date'])\n",
    "\n",
    "# world_cup = pd.read_csv('../input/fifa-worldcup-2018-dataset/World Cup 2018 Dataset.csv')\n",
    "# world_cup = world_cup.loc[:, ['Team', 'Group', 'First match \\nagainst', 'Second match\\n against', 'Third match\\n against']]\n",
    "# world_cup = world_cup.dropna(how='all')\n",
    "# world_cup = world_cup.replace({\"IRAN\": \"Iran\", \n",
    "#                                \"Costarica\": \"Costa Rica\", \n",
    "#                                \"Porugal\": \"Portugal\", \n",
    "#                                \"Columbia\": \"Colombia\", \n",
    "#                                \"Korea\" : \"Korea Republic\"})\n",
    "# world_cup = world_cup.set_index('Team')\n",
    "matches['date', 'home_team', 'away_team', 'home_score', 'away_score']"
   ]
  },
  {
   "cell_type": "markdown",
   "metadata": {
    "_uuid": "a34c1cd5a26c1024b0638d2d93fc0c691b290024"
   },
   "source": [
    "# Feature extraction\n\nI join the matches with the ranks of the different teams. \n\nThen extract some features:\n- point and rank differences\n- if the game was for some stakes, because my naive view was that typically friendly matches are harder to predict (TODO differentiate the WC matches from the rest)\n- how many days the different teams were able to rest but this turned out to be not important enough to be worth the hassle\n- include the participant countries as a one hot vector but that did not appear to be a strong predictor either"
   ]
  },
  {
   "cell_type": "code",
   "execution_count": null,
   "metadata": {
    "trusted": true,
    "_uuid": "863552790217b049b611165e162ad3182f1692f9",
    "collapsed": true
   },
   "outputs": [],
   "source": [
    "# I want to have the ranks for every day \n",
    "rankings = rankings.set_index(['rank_date'])\\\n",
    "            .groupby(['country_full'], group_keys=False)\\\n",
    "            .resample('D').first()\\\n",
    "            .fillna(method='ffill')\\\n",
    "            .reset_index()\n",
    "\n",
    "# join the ranks\n",
    "matches = matches.merge(rankings, \n",
    "                        left_on=['date', 'home_team'], \n",
    "                        right_on=['rank_date', 'country_full'])\n",
    "matches = matches.merge(rankings, \n",
    "                        left_on=['date', 'away_team'], \n",
    "                        right_on=['rank_date', 'country_full'], \n",
    "                        suffixes=('_home', '_away'))"
   ]
  },
  {
   "cell_type": "code",
   "execution_count": null,
   "metadata": {
    "trusted": true,
    "_uuid": "107fa4816e6db551811abd9fc784c34f1ad63682",
    "collapsed": true
   },
   "outputs": [],
   "source": [
    "# feature generation\n",
    "matches['rank_difference'] = matches['rank_home'] - matches['rank_away']\n",
    "matches['average_rank'] = (matches['rank_home'] + matches['rank_away'])/2\n",
    "matches['point_difference'] = matches['weighted_points_home'] - matches['weighted_points_away']\n",
    "matches['score_difference'] = matches['home_score'] - matches['away_score']\n",
    "matches['is_won'] = matches['score_difference'] > 0 # take draw as lost\n",
    "matches['is_stake'] = matches['tournament'] != 'Friendly'\n",
    "\n",
    "# I tried earlier rest days but it did not turn to be useful\n",
    "max_rest = 30\n",
    "matches['rest_days'] = matches.groupby('home_team').diff()['date'].dt.days.clip(0,max_rest).fillna(max_rest)\n",
    "\n",
    "# I tried earlier the team as well but that did not make a difference either\n",
    "matches['wc_participant'] = matches['home_team'] * matches['home_team'].isin(world_cup.index.tolist())\n",
    "matches['wc_participant'] = matches['wc_participant'].replace({'':'Other'})\n",
    "matches = matches.join(pd.get_dummies(matches['wc_participant']))"
   ]
  },
  {
   "cell_type": "markdown",
   "metadata": {
    "_uuid": "f67d4cba7bc60580490e00507a0811803e12a6e6"
   },
   "source": [
    "# Modeling\n\nI used a simple Logistic regression, which yielded already rather good performance"
   ]
  },
  {
   "cell_type": "code",
   "execution_count": null,
   "metadata": {
    "trusted": true,
    "_uuid": "78e3186d0e783cf2a4cb1a141a8d0ffe9f2b59ba",
    "collapsed": true
   },
   "outputs": [],
   "source": [
    "from sklearn import linear_model\n",
    "from sklearn import ensemble\n",
    "from sklearn.model_selection import train_test_split\n",
    "from sklearn.metrics import confusion_matrix, roc_curve, roc_auc_score\n",
    "from sklearn.pipeline import Pipeline\n",
    "from sklearn.preprocessing import PolynomialFeatures\n",
    "\n",
    "X, y = matches.loc[:,['average_rank', 'rank_difference', 'point_difference', 'is_stake']], matches['is_won']\n",
    "X_train, X_test, y_train, y_test = train_test_split(\n",
    "    X, y, test_size=0.2, random_state=42)\n",
    "\n",
    "logreg = linear_model.LogisticRegression(C=1e-5)\n",
    "features = PolynomialFeatures(degree=2)\n",
    "model = Pipeline([\n",
    "    ('polynomial_features', features),\n",
    "    ('logistic_regression', logreg)\n",
    "])\n",
    "model = model.fit(X_train, y_train)\n",
    "\n",
    "# figures \n",
    "fpr, tpr, _ = roc_curve(y_test, model.predict_proba(X_test)[:,1])\n",
    "plt.figure(figsize=(15,5))\n",
    "ax = plt.subplot(1,3,1)\n",
    "ax.plot([0, 1], [0, 1], 'k--')\n",
    "ax.plot(fpr, tpr)\n",
    "ax.set_title('AUC score is {0:0.2}'.format(roc_auc_score(y_test, model.predict_proba(X_test)[:,1])))\n",
    "ax.set_aspect(1)\n",
    "\n",
    "ax = plt.subplot(1,3,2)\n",
    "cm = confusion_matrix(y_test, model.predict(X_test))\n",
    "ax.imshow(cm, cmap='Blues', clim = (0, cm.max())) \n",
    "\n",
    "ax.set_xlabel('Predicted label')\n",
    "ax.set_title('Performance on the Test set')\n",
    "\n",
    "ax = plt.subplot(1,3,3)\n",
    "cm = confusion_matrix(y_train, model.predict(X_train))\n",
    "ax.imshow(cm, cmap='Blues', clim = (0, cm.max())) \n",
    "ax.set_xlabel('Predicted label')\n",
    "ax.set_title('Performance on the Training set')\n",
    "pass"
   ]
  },
  {
   "cell_type": "markdown",
   "metadata": {
    "_uuid": "4df844d3dda19501acb22ca095f100eed9787263"
   },
   "source": [
    "I consider this pretty good performance, minding that soccer matches have typically only few goals scored and therefore making their outcome even more unpredictable. Nevertheless, let's look at the bad predictions and see where we are making mistakes more often."
   ]
  },
  {
   "cell_type": "code",
   "execution_count": null,
   "metadata": {
    "trusted": true,
    "_uuid": "f6550496a065d29bade0adbbb5c7662fd7c7fc40",
    "collapsed": true
   },
   "outputs": [],
   "source": [
    "features = ['average_rank', 'rank_difference', 'point_difference']\n",
    "wrongs = y_test != model.predict(X_test)\n",
    "\n",
    "for feature in features:\n",
    "    plt.figure()\n",
    "    plt.title(feature)\n",
    "    X_test.loc[wrongs, feature].plot.kde()\n",
    "    X.loc[:, feature].plot.kde()\n",
    "    plt.legend(['wrongs', 'all'])\n",
    "    \n",
    "print(\"Stakes distribution in the wrong predictions\")\n",
    "print(X_test.loc[wrongs, 'is_stake'].value_counts() / wrongs.sum())\n",
    "print(\"Stakes distribution overall\")\n",
    "print(X['is_stake'].value_counts() / X.shape[0])"
   ]
  },
  {
   "cell_type": "markdown",
   "metadata": {
    "_uuid": "d0ad1a53cac1da95697f1ebfa1c5e7c229f52083"
   },
   "source": [
    "From these figures, we read \n- we predict worse for closer ranks\n- lower ranks in general\n- and somewhat for matches with no stakes (Friendly here)\n\nLuckily, this implies that for the world cup our predicitons may be somewhat even better"
   ]
  },
  {
   "cell_type": "markdown",
   "metadata": {
    "_uuid": "479b97e38320c9eba008210903b17951edc84727"
   },
   "source": [
    "# World Cup simulation"
   ]
  },
  {
   "cell_type": "markdown",
   "metadata": {
    "_uuid": "16eae35346f7a015d627801e05d0d408f3091964"
   },
   "source": [
    "## Group rounds"
   ]
  },
  {
   "cell_type": "code",
   "execution_count": null,
   "metadata": {
    "trusted": true,
    "collapsed": true,
    "_uuid": "db455e9096f0a41a0abd512193222f366d42c4c8"
   },
   "outputs": [],
   "source": [
    "# let's define a small margin when we safer to predict draw then win\n",
    "margin = 0.05\n",
    "\n",
    "# let's define the rankings at the time of the World Cup\n",
    "world_cup_rankings = rankings.loc[(rankings['rank_date'] == rankings['rank_date'].max()) & \n",
    "                                    rankings['country_full'].isin(world_cup.index.unique())]\n",
    "world_cup_rankings = world_cup_rankings.set_index(['country_full'])"
   ]
  },
  {
   "cell_type": "code",
   "execution_count": null,
   "metadata": {
    "trusted": true,
    "_uuid": "fd197611ef601dcc41c59f48f37f66bec6d2d669",
    "collapsed": true
   },
   "outputs": [],
   "source": [
    "from itertools import combinations\n",
    "\n",
    "opponents = ['First match \\nagainst', 'Second match\\n against', 'Third match\\n against']\n",
    "\n",
    "world_cup['points'] = 0\n",
    "world_cup['total_prob'] = 0\n",
    "\n",
    "for group in set(world_cup['Group']):\n",
    "    print('___Starting group {}:___'.format(group))\n",
    "    for home, away in combinations(world_cup.query('Group == \"{}\"'.format(group)).index, 2):\n",
    "        print(\"{} vs. {}: \".format(home, away), end='')\n",
    "        row = pd.DataFrame(np.array([[np.nan, np.nan, np.nan, True]]), columns=X_test.columns)\n",
    "        home_rank = world_cup_rankings.loc[home, 'rank']\n",
    "        home_points = world_cup_rankings.loc[home, 'weighted_points']\n",
    "        opp_rank = world_cup_rankings.loc[away, 'rank']\n",
    "        opp_points = world_cup_rankings.loc[away, 'weighted_points']\n",
    "        row['average_rank'] = (home_rank + opp_rank) / 2\n",
    "        row['rank_difference'] = home_rank - opp_rank\n",
    "        row['point_difference'] = home_points - opp_points\n",
    "        \n",
    "        home_win_prob = model.predict_proba(row)[:,1][0]\n",
    "        world_cup.loc[home, 'total_prob'] += home_win_prob\n",
    "        world_cup.loc[away, 'total_prob'] += 1-home_win_prob\n",
    "        \n",
    "        points = 0\n",
    "        if home_win_prob <= 0.5 - margin:\n",
    "            print(\"{} wins with {:.2f}\".format(away, 1-home_win_prob))\n",
    "            world_cup.loc[away, 'points'] += 3\n",
    "        if home_win_prob > 0.5 - margin:\n",
    "            points = 1\n",
    "        if home_win_prob >= 0.5 + margin:\n",
    "            points = 3\n",
    "            world_cup.loc[home, 'points'] += 3\n",
    "            print(\"{} wins with {:.2f}\".format(home, home_win_prob))\n",
    "        if points == 1:\n",
    "            print(\"Draw\")\n",
    "            world_cup.loc[home, 'points'] += 1\n",
    "            world_cup.loc[away, 'points'] += 1"
   ]
  },
  {
   "cell_type": "markdown",
   "metadata": {
    "_uuid": "b2c787fd8541c281f736a4c6b698839f565ac1b8"
   },
   "source": [
    "## Single-elimination rounds"
   ]
  },
  {
   "cell_type": "code",
   "execution_count": null,
   "metadata": {
    "trusted": true,
    "_uuid": "2eb8426dfc5e4fdd985e8109179e34dac2e9c976",
    "collapsed": true
   },
   "outputs": [],
   "source": [
    "pairing = [0,3,4,7,8,11,12,15,1,2,5,6,9,10,13,14]\n",
    "\n",
    "world_cup = world_cup.sort_values(by=['Group', 'points', 'total_prob'], ascending=False).reset_index()\n",
    "next_round_wc = world_cup.groupby('Group').nth([0, 1]) # select the top 2\n",
    "next_round_wc = next_round_wc.reset_index()\n",
    "next_round_wc = next_round_wc.loc[pairing]\n",
    "next_round_wc = next_round_wc.set_index('Team')\n",
    "\n",
    "finals = ['round_of_16', 'quarterfinal', 'semifinal', 'final']\n",
    "\n",
    "labels = list()\n",
    "odds = list()\n",
    "\n",
    "for f in finals:\n",
    "    print(\"___Starting of the {}___\".format(f))\n",
    "    iterations = int(len(next_round_wc) / 2)\n",
    "    winners = []\n",
    "\n",
    "    for i in range(iterations):\n",
    "        home = next_round_wc.index[i*2]\n",
    "        away = next_round_wc.index[i*2+1]\n",
    "        print(\"{} vs. {}: \".format(home,\n",
    "                                   away), \n",
    "                                   end='')\n",
    "        row = pd.DataFrame(np.array([[np.nan, np.nan, np.nan, True]]), columns=X_test.columns)\n",
    "        home_rank = world_cup_rankings.loc[home, 'rank']\n",
    "        home_points = world_cup_rankings.loc[home, 'weighted_points']\n",
    "        opp_rank = world_cup_rankings.loc[away, 'rank']\n",
    "        opp_points = world_cup_rankings.loc[away, 'weighted_points']\n",
    "        row['average_rank'] = (home_rank + opp_rank) / 2\n",
    "        row['rank_difference'] = home_rank - opp_rank\n",
    "        row['point_difference'] = home_points - opp_points\n",
    "\n",
    "        home_win_prob = model.predict_proba(row)[:,1][0]\n",
    "        if model.predict_proba(row)[:,1] <= 0.5:\n",
    "            print(\"{0} wins with probability {1:.2f}\".format(away, 1-home_win_prob))\n",
    "            winners.append(away)\n",
    "        else:\n",
    "            print(\"{0} wins with probability {1:.2f}\".format(home, home_win_prob))\n",
    "            winners.append(home)\n",
    "\n",
    "        labels.append(\"{}({:.2f}) vs. {}({:.2f})\".format(world_cup_rankings.loc[home, 'country_abrv'], \n",
    "                                                        1/home_win_prob, \n",
    "                                                        world_cup_rankings.loc[away, 'country_abrv'], \n",
    "                                                        1/(1-home_win_prob)))\n",
    "        odds.append([home_win_prob, 1-home_win_prob])\n",
    "                \n",
    "    next_round_wc = next_round_wc.loc[winners]\n",
    "    print(\"\\n\")"
   ]
  },
  {
   "cell_type": "markdown",
   "metadata": {
    "_uuid": "19a4df1e098b4e9fc647c28b5f9a9b06448fd8eb"
   },
   "source": [
    "# Let's see a visualization "
   ]
  },
  {
   "cell_type": "code",
   "execution_count": null,
   "metadata": {
    "trusted": true,
    "_uuid": "8d5f7d249feb7e4d83a659686a2b4cfe96c63d0b",
    "scrolled": false,
    "collapsed": true
   },
   "outputs": [],
   "source": [
    "import networkx as nx\n",
    "import pydot\n",
    "from networkx.drawing.nx_pydot import graphviz_layout\n",
    "\n",
    "node_sizes = pd.DataFrame(list(reversed(odds)))\n",
    "scale_factor = 0.3 # for visualization\n",
    "G = nx.balanced_tree(2, 3)\n",
    "pos = graphviz_layout(G, prog='twopi', args='')\n",
    "centre = pd.DataFrame(pos).mean(axis=1).mean()\n",
    "\n",
    "plt.figure(figsize=(10, 10))\n",
    "ax = plt.subplot(1,1,1)\n",
    "# add circles \n",
    "circle_positions = [(235, 'black'), (180, 'blue'), (120, 'red'), (60, 'yellow')]\n",
    "[ax.add_artist(plt.Circle((centre, centre), \n",
    "                          cp, color='grey', \n",
    "                          alpha=0.2)) for cp, c in circle_positions]\n",
    "\n",
    "# draw first the graph\n",
    "nx.draw(G, pos, \n",
    "        node_color=node_sizes.diff(axis=1)[1].abs().pow(scale_factor), \n",
    "        node_size=node_sizes.diff(axis=1)[1].abs().pow(scale_factor)*2000, \n",
    "        alpha=1, \n",
    "        cmap='Reds',\n",
    "        edge_color='black',\n",
    "        width=10,\n",
    "        with_labels=False)\n",
    "\n",
    "# draw the custom node labels\n",
    "shifted_pos = {k:[(v[0]-centre)*0.9+centre,(v[1]-centre)*0.9+centre] for k,v in pos.items()}\n",
    "nx.draw_networkx_labels(G, \n",
    "                        pos=shifted_pos, \n",
    "                        bbox=dict(boxstyle=\"round,pad=0.3\", fc=\"white\", ec=\"black\", lw=.5, alpha=1),\n",
    "                        labels=dict(zip(reversed(range(len(labels))), labels)))\n",
    "\n",
    "texts = ((10, 'Best 16', 'black'), (70, 'Quarter-\\nfinal', 'blue'), (130, 'Semifinal', 'red'), (190, 'Final', 'yellow'))\n",
    "[plt.text(p, centre+20, t, \n",
    "          fontsize=12, color='grey', \n",
    "          va='center', ha='center') for p,t,c in texts]\n",
    "plt.axis('equal')\n",
    "plt.title('Single-elimination phase\\npredictions with fair odds', fontsize=20)\n",
    "plt.show()"
   ]
  },
  {
   "cell_type": "markdown",
   "metadata": {
    "trusted": true,
    "collapsed": true,
    "_uuid": "a0d13d51d8a19ff066d92296cff7361a24b703b3"
   },
   "source": [
    "Fin"
   ]
  },
  {
   "cell_type": "code",
   "execution_count": null,
   "metadata": {
    "trusted": true,
    "collapsed": true,
    "_uuid": "bab22501ec001b665a0a0f61d2c91216d48fe8b6"
   },
   "outputs": [],
   "source": [
    ""
   ]
  }
 ],
 "metadata": {
  "kernelspec": {
   "display_name": "Python 3",
   "language": "python",
   "name": "python3"
  },
  "language_info": {
   "name": "python",
   "version": "3.6.6",
   "mimetype": "text/x-python",
   "codemirror_mode": {
    "name": "ipython",
    "version": 3
   },
   "pygments_lexer": "ipython3",
   "nbconvert_exporter": "python",
   "file_extension": ".py"
  }
 },
 "nbformat": 4,
 "nbformat_minor": 1
}
